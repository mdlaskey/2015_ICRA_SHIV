{
 "metadata": {
  "name": "",
  "signature": "sha256:7696fd7b036eb9f3a65f53941dff5642528d05c96df39c72647b724e2c5a8ac6"
 },
 "nbformat": 3,
 "nbformat_minor": 0,
 "worksheets": [
  {
   "cells": [
    {
     "cell_type": "code",
     "collapsed": false,
     "input": [
      "from sympy import *\n",
      "from sympy.matrices import *\n",
      "from sympy.utilities.codegen import codegen"
     ],
     "language": "python",
     "metadata": {},
     "outputs": [],
     "prompt_number": 1
    },
    {
     "cell_type": "code",
     "collapsed": false,
     "input": [
      "cx1, cy1, nx1, ny1, cx2, cy2, nx2, ny2, zx, zy, tau = symbols('cx1, cy1, nx1, ny1, cx2, cy2, nx2, ny2, zx, zy, tau')"
     ],
     "language": "python",
     "metadata": {},
     "outputs": [],
     "prompt_number": 2
    },
    {
     "cell_type": "code",
     "collapsed": false,
     "input": [
      "c1 = Matrix([cx1, cy1, 0])"
     ],
     "language": "python",
     "metadata": {},
     "outputs": [],
     "prompt_number": 3
    },
    {
     "cell_type": "code",
     "collapsed": false,
     "input": [
      "c2 = Matrix([cx2, cy2, 0])"
     ],
     "language": "python",
     "metadata": {},
     "outputs": [],
     "prompt_number": 4
    },
    {
     "cell_type": "code",
     "collapsed": false,
     "input": [
      "n1 = Matrix([nx1, ny1, 0])"
     ],
     "language": "python",
     "metadata": {},
     "outputs": [],
     "prompt_number": 5
    },
    {
     "cell_type": "code",
     "collapsed": false,
     "input": [
      "n2 = Matrix([nx2, ny2, 0])"
     ],
     "language": "python",
     "metadata": {},
     "outputs": [],
     "prompt_number": 6
    },
    {
     "cell_type": "code",
     "collapsed": false,
     "input": [
      "z = Matrix([zx, zy, 0])"
     ],
     "language": "python",
     "metadata": {},
     "outputs": [],
     "prompt_number": 7
    },
    {
     "cell_type": "code",
     "collapsed": false,
     "input": [
      "r1, r2 = c1 - z, c2 - z"
     ],
     "language": "python",
     "metadata": {},
     "outputs": [],
     "prompt_number": 8
    },
    {
     "cell_type": "code",
     "collapsed": false,
     "input": [
      "f1perp = Matrix([-ny1, nx1, 0])"
     ],
     "language": "python",
     "metadata": {},
     "outputs": [],
     "prompt_number": 9
    },
    {
     "cell_type": "code",
     "collapsed": false,
     "input": [
      "f2perp = Matrix([-ny2, nx2, 0])"
     ],
     "language": "python",
     "metadata": {},
     "outputs": [],
     "prompt_number": 10
    },
    {
     "cell_type": "code",
     "collapsed": false,
     "input": [
      "f1l, f1r = n1 - tau * f1perp, n1 + tau * f1perp"
     ],
     "language": "python",
     "metadata": {},
     "outputs": [],
     "prompt_number": 11
    },
    {
     "cell_type": "code",
     "collapsed": false,
     "input": [
      "f2l, f2r = n2 - tau * f2perp, n2 + tau * f2perp"
     ],
     "language": "python",
     "metadata": {},
     "outputs": [],
     "prompt_number": 12
    },
    {
     "cell_type": "code",
     "collapsed": false,
     "input": [
      "t1l, t1r = f1l.cross(r1), f1r.cross(r1)"
     ],
     "language": "python",
     "metadata": {},
     "outputs": [],
     "prompt_number": 13
    },
    {
     "cell_type": "code",
     "collapsed": false,
     "input": [
      "t2l, t2r = f2l.cross(r2), f2r.cross(r2)"
     ],
     "language": "python",
     "metadata": {},
     "outputs": [],
     "prompt_number": 14
    },
    {
     "cell_type": "code",
     "collapsed": false,
     "input": [
      "w1l, w1r = f1l + t1l, f1r + t1r"
     ],
     "language": "python",
     "metadata": {},
     "outputs": [],
     "prompt_number": 15
    },
    {
     "cell_type": "code",
     "collapsed": false,
     "input": [
      "w2l, w2r = f2l + t2l, f2r + t2r"
     ],
     "language": "python",
     "metadata": {},
     "outputs": [],
     "prompt_number": 16
    },
    {
     "cell_type": "code",
     "collapsed": false,
     "input": [
      "w1ljac = w1l.jacobian(Matrix([cx1, cy1, nx1, ny1]))"
     ],
     "language": "python",
     "metadata": {},
     "outputs": [],
     "prompt_number": 21
    },
    {
     "cell_type": "code",
     "collapsed": false,
     "input": [
      "w1ljac"
     ],
     "language": "python",
     "metadata": {},
     "outputs": [
      {
       "metadata": {},
       "output_type": "pyout",
       "prompt_number": 22,
       "text": [
        "Matrix([\n",
        "[            0,             0,                         1,                        tau],\n",
        "[            0,             0,                      -tau,                          1],\n",
        "[nx1*tau - ny1, nx1 + ny1*tau, cy1 + tau*(cx1 - zx) - zy, -cx1 + tau*(cy1 - zy) + zx]])"
       ]
      }
     ],
     "prompt_number": 22
    },
    {
     "cell_type": "code",
     "collapsed": false,
     "input": [
      "pretty_print(w1r.jacobian(Matrix([cx1, cy1, nx1, ny1])))"
     ],
     "language": "python",
     "metadata": {},
     "outputs": [
      {
       "output_type": "stream",
       "stream": "stdout",
       "text": [
        "\u23a1     0             0                  1                        -\u03c4           \u23a4\n",
        "\u23a2                                                                            \u23a5\n",
        "\u23a2     0             0                  \u03c4                        1            \u23a5\n",
        "\u23a2                                                                            \u23a5\n",
        "\u23a3-nx\u2081\u22c5\u03c4 - ny\u2081  nx\u2081 - ny\u2081\u22c5\u03c4  cy\u2081 - \u03c4\u22c5(cx\u2081 - zx) - zy  -cx\u2081 - \u03c4\u22c5(cy\u2081 - zy) + zx\u23a6\n"
       ]
      }
     ],
     "prompt_number": 19
    },
    {
     "cell_type": "code",
     "collapsed": false,
     "input": [
      "# now assume that the active plane is between w1, w2, w3"
     ],
     "language": "python",
     "metadata": {},
     "outputs": [],
     "prompt_number": 24
    },
    {
     "cell_type": "code",
     "collapsed": false,
     "input": [
      "wx1, wy1, wz1, wx2, wy2, wz2, wx3, wy3, wz3 = symbols('wx1, wy1, wz1, wx2, wy2, wz2, wx3, wy3, wz3')"
     ],
     "language": "python",
     "metadata": {},
     "outputs": [],
     "prompt_number": 26
    },
    {
     "cell_type": "code",
     "collapsed": false,
     "input": [
      "w1 = Matrix([wx1, wy1, wz1])"
     ],
     "language": "python",
     "metadata": {},
     "outputs": [],
     "prompt_number": 27
    },
    {
     "cell_type": "code",
     "collapsed": false,
     "input": [
      "w2 = Matrix([wx2, wy2, wz2])"
     ],
     "language": "python",
     "metadata": {},
     "outputs": [],
     "prompt_number": 28
    },
    {
     "cell_type": "code",
     "collapsed": false,
     "input": [
      "w3 = Matrix([wx3, wy3, wz3])"
     ],
     "language": "python",
     "metadata": {},
     "outputs": [],
     "prompt_number": 29
    },
    {
     "cell_type": "code",
     "collapsed": false,
     "input": [
      "d1, d2 = w1 - w3, w2 - w3"
     ],
     "language": "python",
     "metadata": {},
     "outputs": [],
     "prompt_number": 30
    },
    {
     "cell_type": "code",
     "collapsed": false,
     "input": [
      "plane_normal = d1.cross(d2)"
     ],
     "language": "python",
     "metadata": {},
     "outputs": [],
     "prompt_number": 31
    },
    {
     "cell_type": "code",
     "collapsed": false,
     "input": [
      "plane_normal_magsquare = plane_normal.dot(plane_normal)"
     ],
     "language": "python",
     "metadata": {},
     "outputs": [],
     "prompt_number": 32
    },
    {
     "cell_type": "code",
     "collapsed": false,
     "input": [
      "plane_normal_norm = plane_normal / sqrt(plane_normal_magsquare)"
     ],
     "language": "python",
     "metadata": {},
     "outputs": [],
     "prompt_number": 33
    },
    {
     "cell_type": "code",
     "collapsed": false,
     "input": [],
     "language": "python",
     "metadata": {},
     "outputs": [],
     "prompt_number": 33
    },
    {
     "cell_type": "code",
     "collapsed": false,
     "input": [
      "b = plane_normal_norm.dot(w3).simplify()"
     ],
     "language": "python",
     "metadata": {},
     "outputs": [],
     "prompt_number": 34
    },
    {
     "cell_type": "code",
     "collapsed": false,
     "input": [
      "bmat = Matrix([b])"
     ],
     "language": "python",
     "metadata": {},
     "outputs": [],
     "prompt_number": 35
    },
    {
     "cell_type": "code",
     "collapsed": false,
     "input": [
      "bmatjac = bmat.jacobian(Matrix([wx1, wy1, wz1, wx2, wy2, wz2, wx3, wy3, wz3]))"
     ],
     "language": "python",
     "metadata": {},
     "outputs": [],
     "prompt_number": 36
    },
    {
     "cell_type": "code",
     "collapsed": false,
     "input": [
      "bmatjac"
     ],
     "language": "python",
     "metadata": {},
     "outputs": [
      {
       "metadata": {},
       "output_type": "pyout",
       "prompt_number": 38,
       "text": [
        "Matrix([[(-wy3*(wz2 - wz3) + wz3*(wy2 - wy3))/sqrt(((wx1 - wx3)*(wy2 - wy3) - (wx2 - wx3)*(wy1 - wy3))**2 + ((wx1 - wx3)*(wz2 - wz3) - (wx2 - wx3)*(wz1 - wz3))**2 + ((wy1 - wy3)*(wz2 - wz3) - (wy2 - wy3)*(wz1 - wz3))**2) + (-(2*wy2 - 2*wy3)*((wx1 - wx3)*(wy2 - wy3) - (wx2 - wx3)*(wy1 - wy3))/2 - (2*wz2 - 2*wz3)*((wx1 - wx3)*(wz2 - wz3) - (wx2 - wx3)*(wz1 - wz3))/2)*(wx3*((wy1 - wy3)*(wz2 - wz3) - (wy2 - wy3)*(wz1 - wz3)) - wy3*((wx1 - wx3)*(wz2 - wz3) - (wx2 - wx3)*(wz1 - wz3)) + wz3*((wx1 - wx3)*(wy2 - wy3) - (wx2 - wx3)*(wy1 - wy3)))/(((wx1 - wx3)*(wy2 - wy3) - (wx2 - wx3)*(wy1 - wy3))**2 + ((wx1 - wx3)*(wz2 - wz3) - (wx2 - wx3)*(wz1 - wz3))**2 + ((wy1 - wy3)*(wz2 - wz3) - (wy2 - wy3)*(wz1 - wz3))**2)**(3/2), (wx3*(wz2 - wz3) + wz3*(-wx2 + wx3))/sqrt(((wx1 - wx3)*(wy2 - wy3) - (wx2 - wx3)*(wy1 - wy3))**2 + ((wx1 - wx3)*(wz2 - wz3) - (wx2 - wx3)*(wz1 - wz3))**2 + ((wy1 - wy3)*(wz2 - wz3) - (wy2 - wy3)*(wz1 - wz3))**2) + (-(-2*wx2 + 2*wx3)*((wx1 - wx3)*(wy2 - wy3) - (wx2 - wx3)*(wy1 - wy3))/2 - (2*wz2 - 2*wz3)*((wy1 - wy3)*(wz2 - wz3) - (wy2 - wy3)*(wz1 - wz3))/2)*(wx3*((wy1 - wy3)*(wz2 - wz3) - (wy2 - wy3)*(wz1 - wz3)) - wy3*((wx1 - wx3)*(wz2 - wz3) - (wx2 - wx3)*(wz1 - wz3)) + wz3*((wx1 - wx3)*(wy2 - wy3) - (wx2 - wx3)*(wy1 - wy3)))/(((wx1 - wx3)*(wy2 - wy3) - (wx2 - wx3)*(wy1 - wy3))**2 + ((wx1 - wx3)*(wz2 - wz3) - (wx2 - wx3)*(wz1 - wz3))**2 + ((wy1 - wy3)*(wz2 - wz3) - (wy2 - wy3)*(wz1 - wz3))**2)**(3/2), (wx3*(-wy2 + wy3) - wy3*(-wx2 + wx3))/sqrt(((wx1 - wx3)*(wy2 - wy3) - (wx2 - wx3)*(wy1 - wy3))**2 + ((wx1 - wx3)*(wz2 - wz3) - (wx2 - wx3)*(wz1 - wz3))**2 + ((wy1 - wy3)*(wz2 - wz3) - (wy2 - wy3)*(wz1 - wz3))**2) + (-(-2*wx2 + 2*wx3)*((wx1 - wx3)*(wz2 - wz3) - (wx2 - wx3)*(wz1 - wz3))/2 - (-2*wy2 + 2*wy3)*((wy1 - wy3)*(wz2 - wz3) - (wy2 - wy3)*(wz1 - wz3))/2)*(wx3*((wy1 - wy3)*(wz2 - wz3) - (wy2 - wy3)*(wz1 - wz3)) - wy3*((wx1 - wx3)*(wz2 - wz3) - (wx2 - wx3)*(wz1 - wz3)) + wz3*((wx1 - wx3)*(wy2 - wy3) - (wx2 - wx3)*(wy1 - wy3)))/(((wx1 - wx3)*(wy2 - wy3) - (wx2 - wx3)*(wy1 - wy3))**2 + ((wx1 - wx3)*(wz2 - wz3) - (wx2 - wx3)*(wz1 - wz3))**2 + ((wy1 - wy3)*(wz2 - wz3) - (wy2 - wy3)*(wz1 - wz3))**2)**(3/2), (-wy3*(-wz1 + wz3) + wz3*(-wy1 + wy3))/sqrt(((wx1 - wx3)*(wy2 - wy3) - (wx2 - wx3)*(wy1 - wy3))**2 + ((wx1 - wx3)*(wz2 - wz3) - (wx2 - wx3)*(wz1 - wz3))**2 + ((wy1 - wy3)*(wz2 - wz3) - (wy2 - wy3)*(wz1 - wz3))**2) + (-(-2*wy1 + 2*wy3)*((wx1 - wx3)*(wy2 - wy3) - (wx2 - wx3)*(wy1 - wy3))/2 - (-2*wz1 + 2*wz3)*((wx1 - wx3)*(wz2 - wz3) - (wx2 - wx3)*(wz1 - wz3))/2)*(wx3*((wy1 - wy3)*(wz2 - wz3) - (wy2 - wy3)*(wz1 - wz3)) - wy3*((wx1 - wx3)*(wz2 - wz3) - (wx2 - wx3)*(wz1 - wz3)) + wz3*((wx1 - wx3)*(wy2 - wy3) - (wx2 - wx3)*(wy1 - wy3)))/(((wx1 - wx3)*(wy2 - wy3) - (wx2 - wx3)*(wy1 - wy3))**2 + ((wx1 - wx3)*(wz2 - wz3) - (wx2 - wx3)*(wz1 - wz3))**2 + ((wy1 - wy3)*(wz2 - wz3) - (wy2 - wy3)*(wz1 - wz3))**2)**(3/2), (wx3*(-wz1 + wz3) + wz3*(wx1 - wx3))/sqrt(((wx1 - wx3)*(wy2 - wy3) - (wx2 - wx3)*(wy1 - wy3))**2 + ((wx1 - wx3)*(wz2 - wz3) - (wx2 - wx3)*(wz1 - wz3))**2 + ((wy1 - wy3)*(wz2 - wz3) - (wy2 - wy3)*(wz1 - wz3))**2) + (-(2*wx1 - 2*wx3)*((wx1 - wx3)*(wy2 - wy3) - (wx2 - wx3)*(wy1 - wy3))/2 - (-2*wz1 + 2*wz3)*((wy1 - wy3)*(wz2 - wz3) - (wy2 - wy3)*(wz1 - wz3))/2)*(wx3*((wy1 - wy3)*(wz2 - wz3) - (wy2 - wy3)*(wz1 - wz3)) - wy3*((wx1 - wx3)*(wz2 - wz3) - (wx2 - wx3)*(wz1 - wz3)) + wz3*((wx1 - wx3)*(wy2 - wy3) - (wx2 - wx3)*(wy1 - wy3)))/(((wx1 - wx3)*(wy2 - wy3) - (wx2 - wx3)*(wy1 - wy3))**2 + ((wx1 - wx3)*(wz2 - wz3) - (wx2 - wx3)*(wz1 - wz3))**2 + ((wy1 - wy3)*(wz2 - wz3) - (wy2 - wy3)*(wz1 - wz3))**2)**(3/2), (wx3*(wy1 - wy3) - wy3*(wx1 - wx3))/sqrt(((wx1 - wx3)*(wy2 - wy3) - (wx2 - wx3)*(wy1 - wy3))**2 + ((wx1 - wx3)*(wz2 - wz3) - (wx2 - wx3)*(wz1 - wz3))**2 + ((wy1 - wy3)*(wz2 - wz3) - (wy2 - wy3)*(wz1 - wz3))**2) + (-(2*wx1 - 2*wx3)*((wx1 - wx3)*(wz2 - wz3) - (wx2 - wx3)*(wz1 - wz3))/2 - (2*wy1 - 2*wy3)*((wy1 - wy3)*(wz2 - wz3) - (wy2 - wy3)*(wz1 - wz3))/2)*(wx3*((wy1 - wy3)*(wz2 - wz3) - (wy2 - wy3)*(wz1 - wz3)) - wy3*((wx1 - wx3)*(wz2 - wz3) - (wx2 - wx3)*(wz1 - wz3)) + wz3*((wx1 - wx3)*(wy2 - wy3) - (wx2 - wx3)*(wy1 - wy3)))/(((wx1 - wx3)*(wy2 - wy3) - (wx2 - wx3)*(wy1 - wy3))**2 + ((wx1 - wx3)*(wz2 - wz3) - (wx2 - wx3)*(wz1 - wz3))**2 + ((wy1 - wy3)*(wz2 - wz3) - (wy2 - wy3)*(wz1 - wz3))**2)**(3/2), (-(2*wy1 - 2*wy2)*((wx1 - wx3)*(wy2 - wy3) - (wx2 - wx3)*(wy1 - wy3))/2 - (2*wz1 - 2*wz2)*((wx1 - wx3)*(wz2 - wz3) - (wx2 - wx3)*(wz1 - wz3))/2)*(wx3*((wy1 - wy3)*(wz2 - wz3) - (wy2 - wy3)*(wz1 - wz3)) - wy3*((wx1 - wx3)*(wz2 - wz3) - (wx2 - wx3)*(wz1 - wz3)) + wz3*((wx1 - wx3)*(wy2 - wy3) - (wx2 - wx3)*(wy1 - wy3)))/(((wx1 - wx3)*(wy2 - wy3) - (wx2 - wx3)*(wy1 - wy3))**2 + ((wx1 - wx3)*(wz2 - wz3) - (wx2 - wx3)*(wz1 - wz3))**2 + ((wy1 - wy3)*(wz2 - wz3) - (wy2 - wy3)*(wz1 - wz3))**2)**(3/2) + (-wy3*(wz1 - wz2) + wz3*(wy1 - wy2) + (wy1 - wy3)*(wz2 - wz3) - (wy2 - wy3)*(wz1 - wz3))/sqrt(((wx1 - wx3)*(wy2 - wy3) - (wx2 - wx3)*(wy1 - wy3))**2 + ((wx1 - wx3)*(wz2 - wz3) - (wx2 - wx3)*(wz1 - wz3))**2 + ((wy1 - wy3)*(wz2 - wz3) - (wy2 - wy3)*(wz1 - wz3))**2), (-(-2*wx1 + 2*wx2)*((wx1 - wx3)*(wy2 - wy3) - (wx2 - wx3)*(wy1 - wy3))/2 - (2*wz1 - 2*wz2)*((wy1 - wy3)*(wz2 - wz3) - (wy2 - wy3)*(wz1 - wz3))/2)*(wx3*((wy1 - wy3)*(wz2 - wz3) - (wy2 - wy3)*(wz1 - wz3)) - wy3*((wx1 - wx3)*(wz2 - wz3) - (wx2 - wx3)*(wz1 - wz3)) + wz3*((wx1 - wx3)*(wy2 - wy3) - (wx2 - wx3)*(wy1 - wy3)))/(((wx1 - wx3)*(wy2 - wy3) - (wx2 - wx3)*(wy1 - wy3))**2 + ((wx1 - wx3)*(wz2 - wz3) - (wx2 - wx3)*(wz1 - wz3))**2 + ((wy1 - wy3)*(wz2 - wz3) - (wy2 - wy3)*(wz1 - wz3))**2)**(3/2) + (wx3*(wz1 - wz2) + wz3*(-wx1 + wx2) - (wx1 - wx3)*(wz2 - wz3) + (wx2 - wx3)*(wz1 - wz3))/sqrt(((wx1 - wx3)*(wy2 - wy3) - (wx2 - wx3)*(wy1 - wy3))**2 + ((wx1 - wx3)*(wz2 - wz3) - (wx2 - wx3)*(wz1 - wz3))**2 + ((wy1 - wy3)*(wz2 - wz3) - (wy2 - wy3)*(wz1 - wz3))**2), (-(-2*wx1 + 2*wx2)*((wx1 - wx3)*(wz2 - wz3) - (wx2 - wx3)*(wz1 - wz3))/2 - (-2*wy1 + 2*wy2)*((wy1 - wy3)*(wz2 - wz3) - (wy2 - wy3)*(wz1 - wz3))/2)*(wx3*((wy1 - wy3)*(wz2 - wz3) - (wy2 - wy3)*(wz1 - wz3)) - wy3*((wx1 - wx3)*(wz2 - wz3) - (wx2 - wx3)*(wz1 - wz3)) + wz3*((wx1 - wx3)*(wy2 - wy3) - (wx2 - wx3)*(wy1 - wy3)))/(((wx1 - wx3)*(wy2 - wy3) - (wx2 - wx3)*(wy1 - wy3))**2 + ((wx1 - wx3)*(wz2 - wz3) - (wx2 - wx3)*(wz1 - wz3))**2 + ((wy1 - wy3)*(wz2 - wz3) - (wy2 - wy3)*(wz1 - wz3))**2)**(3/2) + (wx3*(-wy1 + wy2) - wy3*(-wx1 + wx2) + (wx1 - wx3)*(wy2 - wy3) - (wx2 - wx3)*(wy1 - wy3))/sqrt(((wx1 - wx3)*(wy2 - wy3) - (wx2 - wx3)*(wy1 - wy3))**2 + ((wx1 - wx3)*(wz2 - wz3) - (wx2 - wx3)*(wz1 - wz3))**2 + ((wy1 - wy3)*(wz2 - wz3) - (wy2 - wy3)*(wz1 - wz3))**2)]])"
       ]
      }
     ],
     "prompt_number": 38
    },
    {
     "cell_type": "code",
     "collapsed": false,
     "input": [
      "cse_main(bmatjac)"
     ],
     "language": "python",
     "metadata": {},
     "outputs": [
      {
       "ename": "TypeError",
       "evalue": "'module' object is not callable",
       "output_type": "pyerr",
       "traceback": [
        "\u001b[1;31m---------------------------------------------------------------------------\u001b[0m\n\u001b[1;31mTypeError\u001b[0m                                 Traceback (most recent call last)",
        "\u001b[1;32m<ipython-input-37-5f1c2c93831d>\u001b[0m in \u001b[0;36m<module>\u001b[1;34m()\u001b[0m\n\u001b[1;32m----> 1\u001b[1;33m \u001b[0mcse_main\u001b[0m\u001b[1;33m(\u001b[0m\u001b[0mbmatjac\u001b[0m\u001b[1;33m)\u001b[0m\u001b[1;33m\u001b[0m\u001b[0m\n\u001b[0m",
        "\u001b[1;31mTypeError\u001b[0m: 'module' object is not callable"
       ]
      }
     ],
     "prompt_number": 37
    },
    {
     "cell_type": "code",
     "collapsed": false,
     "input": [
      "[(c_name, c_code), (h_name, c_header)] = codegen((\"bmatjac\", bmatjac[0]), \"python\", \"test\", header=False, empty=False)"
     ],
     "language": "python",
     "metadata": {},
     "outputs": [
      {
       "ename": "ValueError",
       "evalue": "Language 'python' is not supported.",
       "output_type": "pyerr",
       "traceback": [
        "\u001b[1;31m---------------------------------------------------------------------------\u001b[0m\n\u001b[1;31mValueError\u001b[0m                                Traceback (most recent call last)",
        "\u001b[1;32m<ipython-input-72-b2929c0ef665>\u001b[0m in \u001b[0;36m<module>\u001b[1;34m()\u001b[0m\n\u001b[1;32m----> 1\u001b[1;33m \u001b[1;33m[\u001b[0m\u001b[1;33m(\u001b[0m\u001b[0mc_name\u001b[0m\u001b[1;33m,\u001b[0m \u001b[0mc_code\u001b[0m\u001b[1;33m)\u001b[0m\u001b[1;33m,\u001b[0m \u001b[1;33m(\u001b[0m\u001b[0mh_name\u001b[0m\u001b[1;33m,\u001b[0m \u001b[0mc_header\u001b[0m\u001b[1;33m)\u001b[0m\u001b[1;33m]\u001b[0m \u001b[1;33m=\u001b[0m \u001b[0mcodegen\u001b[0m\u001b[1;33m(\u001b[0m\u001b[1;33m(\u001b[0m\u001b[1;34m\"bmatjac\"\u001b[0m\u001b[1;33m,\u001b[0m \u001b[0mbmatjac\u001b[0m\u001b[1;33m[\u001b[0m\u001b[1;36m0\u001b[0m\u001b[1;33m]\u001b[0m\u001b[1;33m)\u001b[0m\u001b[1;33m,\u001b[0m \u001b[1;34m\"python\"\u001b[0m\u001b[1;33m,\u001b[0m \u001b[1;34m\"test\"\u001b[0m\u001b[1;33m,\u001b[0m \u001b[0mheader\u001b[0m\u001b[1;33m=\u001b[0m\u001b[0mFalse\u001b[0m\u001b[1;33m,\u001b[0m \u001b[0mempty\u001b[0m\u001b[1;33m=\u001b[0m\u001b[0mFalse\u001b[0m\u001b[1;33m)\u001b[0m\u001b[1;33m\u001b[0m\u001b[0m\n\u001b[0m",
        "\u001b[1;32m/home/zoe/anaconda/envs/py27/lib/python2.7/site-packages/sympy/utilities/codegen.py\u001b[0m in \u001b[0;36mcodegen\u001b[1;34m(name_expr, language, prefix, project, to_files, header, empty, argument_sequence)\u001b[0m\n\u001b[0;32m    974\u001b[0m \u001b[1;33m\u001b[0m\u001b[0m\n\u001b[0;32m    975\u001b[0m     \u001b[1;31m# Initialize the code generator.\u001b[0m\u001b[1;33m\u001b[0m\u001b[1;33m\u001b[0m\u001b[0m\n\u001b[1;32m--> 976\u001b[1;33m     \u001b[0mcode_gen\u001b[0m \u001b[1;33m=\u001b[0m \u001b[0mget_code_generator\u001b[0m\u001b[1;33m(\u001b[0m\u001b[0mlanguage\u001b[0m\u001b[1;33m,\u001b[0m \u001b[0mproject\u001b[0m\u001b[1;33m)\u001b[0m\u001b[1;33m\u001b[0m\u001b[0m\n\u001b[0m\u001b[0;32m    977\u001b[0m \u001b[1;33m\u001b[0m\u001b[0m\n\u001b[0;32m    978\u001b[0m     \u001b[1;31m# Construct the routines based on the name_expression pairs.\u001b[0m\u001b[1;33m\u001b[0m\u001b[1;33m\u001b[0m\u001b[0m\n",
        "\u001b[1;32m/home/zoe/anaconda/envs/py27/lib/python2.7/site-packages/sympy/utilities/codegen.py\u001b[0m in \u001b[0;36mget_code_generator\u001b[1;34m(language, project)\u001b[0m\n\u001b[0;32m    901\u001b[0m     \u001b[0mCodeGenClass\u001b[0m \u001b[1;33m=\u001b[0m \u001b[1;33m{\u001b[0m\u001b[1;34m\"C\"\u001b[0m\u001b[1;33m:\u001b[0m \u001b[0mCCodeGen\u001b[0m\u001b[1;33m,\u001b[0m \u001b[1;34m\"F95\"\u001b[0m\u001b[1;33m:\u001b[0m \u001b[0mFCodeGen\u001b[0m\u001b[1;33m}\u001b[0m\u001b[1;33m.\u001b[0m\u001b[0mget\u001b[0m\u001b[1;33m(\u001b[0m\u001b[0mlanguage\u001b[0m\u001b[1;33m.\u001b[0m\u001b[0mupper\u001b[0m\u001b[1;33m(\u001b[0m\u001b[1;33m)\u001b[0m\u001b[1;33m)\u001b[0m\u001b[1;33m\u001b[0m\u001b[0m\n\u001b[0;32m    902\u001b[0m     \u001b[1;32mif\u001b[0m \u001b[0mCodeGenClass\u001b[0m \u001b[1;32mis\u001b[0m \u001b[0mNone\u001b[0m\u001b[1;33m:\u001b[0m\u001b[1;33m\u001b[0m\u001b[0m\n\u001b[1;32m--> 903\u001b[1;33m         \u001b[1;32mraise\u001b[0m \u001b[0mValueError\u001b[0m\u001b[1;33m(\u001b[0m\u001b[1;34m\"Language '%s' is not supported.\"\u001b[0m \u001b[1;33m%\u001b[0m \u001b[0mlanguage\u001b[0m\u001b[1;33m)\u001b[0m\u001b[1;33m\u001b[0m\u001b[0m\n\u001b[0m\u001b[0;32m    904\u001b[0m     \u001b[1;32mreturn\u001b[0m \u001b[0mCodeGenClass\u001b[0m\u001b[1;33m(\u001b[0m\u001b[0mproject\u001b[0m\u001b[1;33m)\u001b[0m\u001b[1;33m\u001b[0m\u001b[0m\n\u001b[0;32m    905\u001b[0m \u001b[1;33m\u001b[0m\u001b[0m\n",
        "\u001b[1;31mValueError\u001b[0m: Language 'python' is not supported."
       ]
      }
     ],
     "prompt_number": 72
    },
    {
     "cell_type": "code",
     "collapsed": false,
     "input": [
      "print(c_code)"
     ],
     "language": "python",
     "metadata": {},
     "outputs": [
      {
       "output_type": "stream",
       "stream": "stdout",
       "text": [
        "#include \"test.h\"\n",
        "#include <math.h>\n",
        "double bmatjac(double wx1, double wx2, double wx3, double wy1, double wy2, double wy3, double wz1, double wz2, double wz3) {\n",
        "   return (-wy3*(wz2 - wz3) + wz3*(wy2 - wy3))/sqrt(pow((wx1 - wx3)*(wy2 - wy3) - (wx2 - wx3)*(wy1 - wy3), 2) + pow((wx1 - wx3)*(wz2 - wz3) - (wx2 - wx3)*(wz1 - wz3), 2) + pow((wy1 - wy3)*(wz2 - wz3) - (wy2 - wy3)*(wz1 - wz3), 2)) + (-1.0L/2.0L*(2*wy2 - 2*wy3)*((wx1 - wx3)*(wy2 - wy3) - (wx2 - wx3)*(wy1 - wy3)) - 1.0L/2.0L*(2*wz2 - 2*wz3)*((wx1 - wx3)*(wz2 - wz3) - (wx2 - wx3)*(wz1 - wz3)))*(wx3*((wy1 - wy3)*(wz2 - wz3) - (wy2 - wy3)*(wz1 - wz3)) - wy3*((wx1 - wx3)*(wz2 - wz3) - (wx2 - wx3)*(wz1 - wz3)) + wz3*((wx1 - wx3)*(wy2 - wy3) - (wx2 - wx3)*(wy1 - wy3)))/pow(pow((wx1 - wx3)*(wy2 - wy3) - (wx2 - wx3)*(wy1 - wy3), 2) + pow((wx1 - wx3)*(wz2 - wz3) - (wx2 - wx3)*(wz1 - wz3), 2) + pow((wy1 - wy3)*(wz2 - wz3) - (wy2 - wy3)*(wz1 - wz3), 2), 3.0L/2.0L);\n",
        "}\n",
        "\n"
       ]
      }
     ],
     "prompt_number": 68
    },
    {
     "cell_type": "code",
     "collapsed": false,
     "input": [],
     "language": "python",
     "metadata": {},
     "outputs": []
    }
   ],
   "metadata": {}
  }
 ]
}